{
 "cells": [
  {
   "cell_type": "markdown",
   "id": "e1532966",
   "metadata": {},
   "source": [
    "# Importing Libraries"
   ]
  },
  {
   "cell_type": "code",
   "execution_count": 1,
   "id": "b2470ed1",
   "metadata": {},
   "outputs": [],
   "source": [
    "import numpy as np\n",
    "import pandas as pd\n",
    "import matplotlib.pyplot as plt\n",
    "import warnings\n",
    "warnings.filterwarnings('ignore')"
   ]
  },
  {
   "cell_type": "markdown",
   "id": "d9984959",
   "metadata": {},
   "source": [
    "# Reading Dataset and Exploring it"
   ]
  },
  {
   "cell_type": "code",
   "execution_count": 2,
   "id": "eb002417",
   "metadata": {},
   "outputs": [
    {
     "data": {
      "text/plain": [
       "(303, 14)"
      ]
     },
     "execution_count": 2,
     "metadata": {},
     "output_type": "execute_result"
    }
   ],
   "source": [
    "data=pd.read_csv(\"heartDisease.csv\")\n",
    "data.shape"
   ]
  },
  {
   "cell_type": "code",
   "execution_count": 3,
   "id": "83dbb7db",
   "metadata": {},
   "outputs": [
    {
     "data": {
      "text/html": [
       "<div>\n",
       "<style scoped>\n",
       "    .dataframe tbody tr th:only-of-type {\n",
       "        vertical-align: middle;\n",
       "    }\n",
       "\n",
       "    .dataframe tbody tr th {\n",
       "        vertical-align: top;\n",
       "    }\n",
       "\n",
       "    .dataframe thead th {\n",
       "        text-align: right;\n",
       "    }\n",
       "</style>\n",
       "<table border=\"1\" class=\"dataframe\">\n",
       "  <thead>\n",
       "    <tr style=\"text-align: right;\">\n",
       "      <th></th>\n",
       "      <th>age</th>\n",
       "      <th>sex</th>\n",
       "      <th>cp</th>\n",
       "      <th>trestbps</th>\n",
       "      <th>chol</th>\n",
       "      <th>fbs</th>\n",
       "      <th>restecg</th>\n",
       "      <th>thalach</th>\n",
       "      <th>exang</th>\n",
       "      <th>oldpeak</th>\n",
       "      <th>slope</th>\n",
       "      <th>ca</th>\n",
       "      <th>thal</th>\n",
       "      <th>target</th>\n",
       "    </tr>\n",
       "  </thead>\n",
       "  <tbody>\n",
       "    <tr>\n",
       "      <th>0</th>\n",
       "      <td>63</td>\n",
       "      <td>1</td>\n",
       "      <td>3</td>\n",
       "      <td>145</td>\n",
       "      <td>233</td>\n",
       "      <td>1</td>\n",
       "      <td>0</td>\n",
       "      <td>150</td>\n",
       "      <td>0</td>\n",
       "      <td>2.3</td>\n",
       "      <td>0</td>\n",
       "      <td>0</td>\n",
       "      <td>1</td>\n",
       "      <td>1</td>\n",
       "    </tr>\n",
       "    <tr>\n",
       "      <th>1</th>\n",
       "      <td>37</td>\n",
       "      <td>1</td>\n",
       "      <td>2</td>\n",
       "      <td>130</td>\n",
       "      <td>250</td>\n",
       "      <td>0</td>\n",
       "      <td>1</td>\n",
       "      <td>187</td>\n",
       "      <td>0</td>\n",
       "      <td>3.5</td>\n",
       "      <td>0</td>\n",
       "      <td>0</td>\n",
       "      <td>2</td>\n",
       "      <td>1</td>\n",
       "    </tr>\n",
       "    <tr>\n",
       "      <th>2</th>\n",
       "      <td>41</td>\n",
       "      <td>0</td>\n",
       "      <td>1</td>\n",
       "      <td>130</td>\n",
       "      <td>204</td>\n",
       "      <td>0</td>\n",
       "      <td>0</td>\n",
       "      <td>172</td>\n",
       "      <td>0</td>\n",
       "      <td>1.4</td>\n",
       "      <td>2</td>\n",
       "      <td>0</td>\n",
       "      <td>2</td>\n",
       "      <td>1</td>\n",
       "    </tr>\n",
       "    <tr>\n",
       "      <th>3</th>\n",
       "      <td>56</td>\n",
       "      <td>1</td>\n",
       "      <td>1</td>\n",
       "      <td>120</td>\n",
       "      <td>236</td>\n",
       "      <td>0</td>\n",
       "      <td>1</td>\n",
       "      <td>178</td>\n",
       "      <td>0</td>\n",
       "      <td>0.8</td>\n",
       "      <td>2</td>\n",
       "      <td>0</td>\n",
       "      <td>2</td>\n",
       "      <td>1</td>\n",
       "    </tr>\n",
       "    <tr>\n",
       "      <th>4</th>\n",
       "      <td>57</td>\n",
       "      <td>0</td>\n",
       "      <td>0</td>\n",
       "      <td>120</td>\n",
       "      <td>354</td>\n",
       "      <td>0</td>\n",
       "      <td>1</td>\n",
       "      <td>163</td>\n",
       "      <td>1</td>\n",
       "      <td>0.6</td>\n",
       "      <td>2</td>\n",
       "      <td>0</td>\n",
       "      <td>2</td>\n",
       "      <td>1</td>\n",
       "    </tr>\n",
       "  </tbody>\n",
       "</table>\n",
       "</div>"
      ],
      "text/plain": [
       "   age  sex  cp  trestbps  chol  fbs  restecg  thalach  exang  oldpeak  slope  \\\n",
       "0   63    1   3       145   233    1        0      150      0      2.3      0   \n",
       "1   37    1   2       130   250    0        1      187      0      3.5      0   \n",
       "2   41    0   1       130   204    0        0      172      0      1.4      2   \n",
       "3   56    1   1       120   236    0        1      178      0      0.8      2   \n",
       "4   57    0   0       120   354    0        1      163      1      0.6      2   \n",
       "\n",
       "   ca  thal  target  \n",
       "0   0     1       1  \n",
       "1   0     2       1  \n",
       "2   0     2       1  \n",
       "3   0     2       1  \n",
       "4   0     2       1  "
      ]
     },
     "execution_count": 3,
     "metadata": {},
     "output_type": "execute_result"
    }
   ],
   "source": [
    "data.head()"
   ]
  },
  {
   "cell_type": "code",
   "execution_count": 4,
   "id": "e8444142",
   "metadata": {},
   "outputs": [
    {
     "data": {
      "text/html": [
       "<div>\n",
       "<style scoped>\n",
       "    .dataframe tbody tr th:only-of-type {\n",
       "        vertical-align: middle;\n",
       "    }\n",
       "\n",
       "    .dataframe tbody tr th {\n",
       "        vertical-align: top;\n",
       "    }\n",
       "\n",
       "    .dataframe thead th {\n",
       "        text-align: right;\n",
       "    }\n",
       "</style>\n",
       "<table border=\"1\" class=\"dataframe\">\n",
       "  <thead>\n",
       "    <tr style=\"text-align: right;\">\n",
       "      <th></th>\n",
       "      <th>age</th>\n",
       "      <th>sex</th>\n",
       "      <th>cp</th>\n",
       "      <th>trestbps</th>\n",
       "      <th>chol</th>\n",
       "      <th>fbs</th>\n",
       "      <th>restecg</th>\n",
       "      <th>thalach</th>\n",
       "      <th>exang</th>\n",
       "      <th>oldpeak</th>\n",
       "      <th>slope</th>\n",
       "      <th>ca</th>\n",
       "      <th>thal</th>\n",
       "      <th>target</th>\n",
       "    </tr>\n",
       "  </thead>\n",
       "  <tbody>\n",
       "    <tr>\n",
       "      <th>298</th>\n",
       "      <td>57</td>\n",
       "      <td>0</td>\n",
       "      <td>0</td>\n",
       "      <td>140</td>\n",
       "      <td>241</td>\n",
       "      <td>0</td>\n",
       "      <td>1</td>\n",
       "      <td>123</td>\n",
       "      <td>1</td>\n",
       "      <td>0.2</td>\n",
       "      <td>1</td>\n",
       "      <td>0</td>\n",
       "      <td>3</td>\n",
       "      <td>0</td>\n",
       "    </tr>\n",
       "    <tr>\n",
       "      <th>299</th>\n",
       "      <td>45</td>\n",
       "      <td>1</td>\n",
       "      <td>3</td>\n",
       "      <td>110</td>\n",
       "      <td>264</td>\n",
       "      <td>0</td>\n",
       "      <td>1</td>\n",
       "      <td>132</td>\n",
       "      <td>0</td>\n",
       "      <td>1.2</td>\n",
       "      <td>1</td>\n",
       "      <td>0</td>\n",
       "      <td>3</td>\n",
       "      <td>0</td>\n",
       "    </tr>\n",
       "    <tr>\n",
       "      <th>300</th>\n",
       "      <td>68</td>\n",
       "      <td>1</td>\n",
       "      <td>0</td>\n",
       "      <td>144</td>\n",
       "      <td>193</td>\n",
       "      <td>1</td>\n",
       "      <td>1</td>\n",
       "      <td>141</td>\n",
       "      <td>0</td>\n",
       "      <td>3.4</td>\n",
       "      <td>1</td>\n",
       "      <td>2</td>\n",
       "      <td>3</td>\n",
       "      <td>0</td>\n",
       "    </tr>\n",
       "    <tr>\n",
       "      <th>301</th>\n",
       "      <td>57</td>\n",
       "      <td>1</td>\n",
       "      <td>0</td>\n",
       "      <td>130</td>\n",
       "      <td>131</td>\n",
       "      <td>0</td>\n",
       "      <td>1</td>\n",
       "      <td>115</td>\n",
       "      <td>1</td>\n",
       "      <td>1.2</td>\n",
       "      <td>1</td>\n",
       "      <td>1</td>\n",
       "      <td>3</td>\n",
       "      <td>0</td>\n",
       "    </tr>\n",
       "    <tr>\n",
       "      <th>302</th>\n",
       "      <td>57</td>\n",
       "      <td>0</td>\n",
       "      <td>1</td>\n",
       "      <td>130</td>\n",
       "      <td>236</td>\n",
       "      <td>0</td>\n",
       "      <td>0</td>\n",
       "      <td>174</td>\n",
       "      <td>0</td>\n",
       "      <td>0.0</td>\n",
       "      <td>1</td>\n",
       "      <td>1</td>\n",
       "      <td>2</td>\n",
       "      <td>0</td>\n",
       "    </tr>\n",
       "  </tbody>\n",
       "</table>\n",
       "</div>"
      ],
      "text/plain": [
       "     age  sex  cp  trestbps  chol  fbs  restecg  thalach  exang  oldpeak  \\\n",
       "298   57    0   0       140   241    0        1      123      1      0.2   \n",
       "299   45    1   3       110   264    0        1      132      0      1.2   \n",
       "300   68    1   0       144   193    1        1      141      0      3.4   \n",
       "301   57    1   0       130   131    0        1      115      1      1.2   \n",
       "302   57    0   1       130   236    0        0      174      0      0.0   \n",
       "\n",
       "     slope  ca  thal  target  \n",
       "298      1   0     3       0  \n",
       "299      1   0     3       0  \n",
       "300      1   2     3       0  \n",
       "301      1   1     3       0  \n",
       "302      1   1     2       0  "
      ]
     },
     "execution_count": 4,
     "metadata": {},
     "output_type": "execute_result"
    }
   ],
   "source": [
    "data.tail()"
   ]
  },
  {
   "cell_type": "code",
   "execution_count": 5,
   "id": "4c1917ae",
   "metadata": {},
   "outputs": [
    {
     "data": {
      "text/html": [
       "<div>\n",
       "<style scoped>\n",
       "    .dataframe tbody tr th:only-of-type {\n",
       "        vertical-align: middle;\n",
       "    }\n",
       "\n",
       "    .dataframe tbody tr th {\n",
       "        vertical-align: top;\n",
       "    }\n",
       "\n",
       "    .dataframe thead th {\n",
       "        text-align: right;\n",
       "    }\n",
       "</style>\n",
       "<table border=\"1\" class=\"dataframe\">\n",
       "  <thead>\n",
       "    <tr style=\"text-align: right;\">\n",
       "      <th></th>\n",
       "      <th>age</th>\n",
       "      <th>sex</th>\n",
       "      <th>cp</th>\n",
       "      <th>trestbps</th>\n",
       "      <th>chol</th>\n",
       "      <th>fbs</th>\n",
       "      <th>restecg</th>\n",
       "      <th>thalach</th>\n",
       "      <th>exang</th>\n",
       "      <th>oldpeak</th>\n",
       "      <th>slope</th>\n",
       "      <th>ca</th>\n",
       "      <th>thal</th>\n",
       "      <th>target</th>\n",
       "    </tr>\n",
       "  </thead>\n",
       "  <tbody>\n",
       "    <tr>\n",
       "      <th>0</th>\n",
       "      <td>63</td>\n",
       "      <td>1</td>\n",
       "      <td>3</td>\n",
       "      <td>145</td>\n",
       "      <td>233</td>\n",
       "      <td>1</td>\n",
       "      <td>0</td>\n",
       "      <td>150</td>\n",
       "      <td>0</td>\n",
       "      <td>2.3</td>\n",
       "      <td>0</td>\n",
       "      <td>0</td>\n",
       "      <td>1</td>\n",
       "      <td>1</td>\n",
       "    </tr>\n",
       "    <tr>\n",
       "      <th>1</th>\n",
       "      <td>37</td>\n",
       "      <td>1</td>\n",
       "      <td>2</td>\n",
       "      <td>130</td>\n",
       "      <td>250</td>\n",
       "      <td>0</td>\n",
       "      <td>1</td>\n",
       "      <td>187</td>\n",
       "      <td>0</td>\n",
       "      <td>3.5</td>\n",
       "      <td>0</td>\n",
       "      <td>0</td>\n",
       "      <td>2</td>\n",
       "      <td>1</td>\n",
       "    </tr>\n",
       "    <tr>\n",
       "      <th>2</th>\n",
       "      <td>41</td>\n",
       "      <td>0</td>\n",
       "      <td>1</td>\n",
       "      <td>130</td>\n",
       "      <td>204</td>\n",
       "      <td>0</td>\n",
       "      <td>0</td>\n",
       "      <td>172</td>\n",
       "      <td>0</td>\n",
       "      <td>1.4</td>\n",
       "      <td>2</td>\n",
       "      <td>0</td>\n",
       "      <td>2</td>\n",
       "      <td>1</td>\n",
       "    </tr>\n",
       "    <tr>\n",
       "      <th>3</th>\n",
       "      <td>56</td>\n",
       "      <td>1</td>\n",
       "      <td>1</td>\n",
       "      <td>120</td>\n",
       "      <td>236</td>\n",
       "      <td>0</td>\n",
       "      <td>1</td>\n",
       "      <td>178</td>\n",
       "      <td>0</td>\n",
       "      <td>0.8</td>\n",
       "      <td>2</td>\n",
       "      <td>0</td>\n",
       "      <td>2</td>\n",
       "      <td>1</td>\n",
       "    </tr>\n",
       "    <tr>\n",
       "      <th>4</th>\n",
       "      <td>57</td>\n",
       "      <td>0</td>\n",
       "      <td>0</td>\n",
       "      <td>120</td>\n",
       "      <td>354</td>\n",
       "      <td>0</td>\n",
       "      <td>1</td>\n",
       "      <td>163</td>\n",
       "      <td>1</td>\n",
       "      <td>0.6</td>\n",
       "      <td>2</td>\n",
       "      <td>0</td>\n",
       "      <td>2</td>\n",
       "      <td>1</td>\n",
       "    </tr>\n",
       "    <tr>\n",
       "      <th>...</th>\n",
       "      <td>...</td>\n",
       "      <td>...</td>\n",
       "      <td>...</td>\n",
       "      <td>...</td>\n",
       "      <td>...</td>\n",
       "      <td>...</td>\n",
       "      <td>...</td>\n",
       "      <td>...</td>\n",
       "      <td>...</td>\n",
       "      <td>...</td>\n",
       "      <td>...</td>\n",
       "      <td>...</td>\n",
       "      <td>...</td>\n",
       "      <td>...</td>\n",
       "    </tr>\n",
       "    <tr>\n",
       "      <th>298</th>\n",
       "      <td>57</td>\n",
       "      <td>0</td>\n",
       "      <td>0</td>\n",
       "      <td>140</td>\n",
       "      <td>241</td>\n",
       "      <td>0</td>\n",
       "      <td>1</td>\n",
       "      <td>123</td>\n",
       "      <td>1</td>\n",
       "      <td>0.2</td>\n",
       "      <td>1</td>\n",
       "      <td>0</td>\n",
       "      <td>3</td>\n",
       "      <td>0</td>\n",
       "    </tr>\n",
       "    <tr>\n",
       "      <th>299</th>\n",
       "      <td>45</td>\n",
       "      <td>1</td>\n",
       "      <td>3</td>\n",
       "      <td>110</td>\n",
       "      <td>264</td>\n",
       "      <td>0</td>\n",
       "      <td>1</td>\n",
       "      <td>132</td>\n",
       "      <td>0</td>\n",
       "      <td>1.2</td>\n",
       "      <td>1</td>\n",
       "      <td>0</td>\n",
       "      <td>3</td>\n",
       "      <td>0</td>\n",
       "    </tr>\n",
       "    <tr>\n",
       "      <th>300</th>\n",
       "      <td>68</td>\n",
       "      <td>1</td>\n",
       "      <td>0</td>\n",
       "      <td>144</td>\n",
       "      <td>193</td>\n",
       "      <td>1</td>\n",
       "      <td>1</td>\n",
       "      <td>141</td>\n",
       "      <td>0</td>\n",
       "      <td>3.4</td>\n",
       "      <td>1</td>\n",
       "      <td>2</td>\n",
       "      <td>3</td>\n",
       "      <td>0</td>\n",
       "    </tr>\n",
       "    <tr>\n",
       "      <th>301</th>\n",
       "      <td>57</td>\n",
       "      <td>1</td>\n",
       "      <td>0</td>\n",
       "      <td>130</td>\n",
       "      <td>131</td>\n",
       "      <td>0</td>\n",
       "      <td>1</td>\n",
       "      <td>115</td>\n",
       "      <td>1</td>\n",
       "      <td>1.2</td>\n",
       "      <td>1</td>\n",
       "      <td>1</td>\n",
       "      <td>3</td>\n",
       "      <td>0</td>\n",
       "    </tr>\n",
       "    <tr>\n",
       "      <th>302</th>\n",
       "      <td>57</td>\n",
       "      <td>0</td>\n",
       "      <td>1</td>\n",
       "      <td>130</td>\n",
       "      <td>236</td>\n",
       "      <td>0</td>\n",
       "      <td>0</td>\n",
       "      <td>174</td>\n",
       "      <td>0</td>\n",
       "      <td>0.0</td>\n",
       "      <td>1</td>\n",
       "      <td>1</td>\n",
       "      <td>2</td>\n",
       "      <td>0</td>\n",
       "    </tr>\n",
       "  </tbody>\n",
       "</table>\n",
       "<p>303 rows × 14 columns</p>\n",
       "</div>"
      ],
      "text/plain": [
       "     age  sex  cp  trestbps  chol  fbs  restecg  thalach  exang  oldpeak  \\\n",
       "0     63    1   3       145   233    1        0      150      0      2.3   \n",
       "1     37    1   2       130   250    0        1      187      0      3.5   \n",
       "2     41    0   1       130   204    0        0      172      0      1.4   \n",
       "3     56    1   1       120   236    0        1      178      0      0.8   \n",
       "4     57    0   0       120   354    0        1      163      1      0.6   \n",
       "..   ...  ...  ..       ...   ...  ...      ...      ...    ...      ...   \n",
       "298   57    0   0       140   241    0        1      123      1      0.2   \n",
       "299   45    1   3       110   264    0        1      132      0      1.2   \n",
       "300   68    1   0       144   193    1        1      141      0      3.4   \n",
       "301   57    1   0       130   131    0        1      115      1      1.2   \n",
       "302   57    0   1       130   236    0        0      174      0      0.0   \n",
       "\n",
       "     slope  ca  thal  target  \n",
       "0        0   0     1       1  \n",
       "1        0   0     2       1  \n",
       "2        2   0     2       1  \n",
       "3        2   0     2       1  \n",
       "4        2   0     2       1  \n",
       "..     ...  ..   ...     ...  \n",
       "298      1   0     3       0  \n",
       "299      1   0     3       0  \n",
       "300      1   2     3       0  \n",
       "301      1   1     3       0  \n",
       "302      1   1     2       0  \n",
       "\n",
       "[303 rows x 14 columns]"
      ]
     },
     "execution_count": 5,
     "metadata": {},
     "output_type": "execute_result"
    }
   ],
   "source": [
    "data"
   ]
  },
  {
   "cell_type": "code",
   "execution_count": 6,
   "id": "04a267c9",
   "metadata": {},
   "outputs": [
    {
     "name": "stdout",
     "output_type": "stream",
     "text": [
      "1    165\n",
      "0    138\n",
      "Name: target, dtype: int64\n",
      "1 --> Heart Disease, 0 --> No Heart Disease\n"
     ]
    },
    {
     "data": {
      "text/plain": [
       "<AxesSubplot:>"
      ]
     },
     "execution_count": 6,
     "metadata": {},
     "output_type": "execute_result"
    },
    {
     "data": {
      "image/png": "[encoded data removed]",
      "text/plain": [
       "<Figure size 432x288 with 1 Axes>"
      ]
     },
     "metadata": {
      "needs_background": "light"
     },
     "output_type": "display_data"
    }
   ],
   "source": [
    "print(data.target.value_counts())\n",
    "print(\"1 --> Heart Disease, 0 --> No Heart Disease\")\n",
    "# lets visualize the target variable\n",
    "data.target.value_counts().plot(kind=\"bar\",color=[\"salmon\",\"lightblue\"])"
   ]
  },
  {
   "cell_type": "code",
   "execution_count": 7,
   "id": "16ef5517",
   "metadata": {},
   "outputs": [
    {
     "name": "stdout",
     "output_type": "stream",
     "text": [
      "<class 'pandas.core.frame.DataFrame'>\n",
      "RangeIndex: 303 entries, 0 to 302\n",
      "Data columns (total 14 columns):\n",
      " #   Column    Non-Null Count  Dtype  \n",
      "---  ------    --------------  -----  \n",
      " 0   age       303 non-null    int64  \n",
      " 1   sex       303 non-null    int64  \n",
      " 2   cp        303 non-null    int64  \n",
      " 3   trestbps  303 non-null    int64  \n",
      " 4   chol      303 non-null    int64  \n",
      " 5   fbs       303 non-null    int64  \n",
      " 6   restecg   303 non-null    int64  \n",
      " 7   thalach   303 non-null    int64  \n",
      " 8   exang     303 non-null    int64  \n",
      " 9   oldpeak   303 non-null    float64\n",
      " 10  slope     303 non-null    int64  \n",
      " 11  ca        303 non-null    int64  \n",
      " 12  thal      303 non-null    int64  \n",
      " 13  target    303 non-null    int64  \n",
      "dtypes: float64(1), int64(13)\n",
      "memory usage: 33.3 KB\n"
     ]
    }
   ],
   "source": [
    "data.info()"
   ]
  },
  {
   "cell_type": "code",
   "execution_count": 8,
   "id": "a3c682f2",
   "metadata": {},
   "outputs": [
    {
     "data": {
      "text/html": [
       "<div>\n",
       "<style scoped>\n",
       "    .dataframe tbody tr th:only-of-type {\n",
       "        vertical-align: middle;\n",
       "    }\n",
       "\n",
       "    .dataframe tbody tr th {\n",
       "        vertical-align: top;\n",
       "    }\n",
       "\n",
       "    .dataframe thead th {\n",
       "        text-align: right;\n",
       "    }\n",
       "</style>\n",
       "<table border=\"1\" class=\"dataframe\">\n",
       "  <thead>\n",
       "    <tr style=\"text-align: right;\">\n",
       "      <th></th>\n",
       "      <th>age</th>\n",
       "      <th>sex</th>\n",
       "      <th>cp</th>\n",
       "      <th>trestbps</th>\n",
       "      <th>chol</th>\n",
       "      <th>fbs</th>\n",
       "      <th>restecg</th>\n",
       "      <th>thalach</th>\n",
       "      <th>exang</th>\n",
       "      <th>oldpeak</th>\n",
       "      <th>slope</th>\n",
       "      <th>ca</th>\n",
       "      <th>thal</th>\n",
       "      <th>target</th>\n",
       "    </tr>\n",
       "  </thead>\n",
       "  <tbody>\n",
       "    <tr>\n",
       "      <th>count</th>\n",
       "      <td>303.000000</td>\n",
       "      <td>303.000000</td>\n",
       "      <td>303.000000</td>\n",
       "      <td>303.000000</td>\n",
       "      <td>303.000000</td>\n",
       "      <td>303.000000</td>\n",
       "      <td>303.000000</td>\n",
       "      <td>303.000000</td>\n",
       "      <td>303.000000</td>\n",
       "      <td>303.000000</td>\n",
       "      <td>303.000000</td>\n",
       "      <td>303.000000</td>\n",
       "      <td>303.000000</td>\n",
       "      <td>303.000000</td>\n",
       "    </tr>\n",
       "    <tr>\n",
       "      <th>mean</th>\n",
       "      <td>54.366337</td>\n",
       "      <td>0.683168</td>\n",
       "      <td>0.966997</td>\n",
       "      <td>131.623762</td>\n",
       "      <td>246.264026</td>\n",
       "      <td>0.148515</td>\n",
       "      <td>0.528053</td>\n",
       "      <td>149.646865</td>\n",
       "      <td>0.326733</td>\n",
       "      <td>1.039604</td>\n",
       "      <td>1.399340</td>\n",
       "      <td>0.729373</td>\n",
       "      <td>2.313531</td>\n",
       "      <td>0.544554</td>\n",
       "    </tr>\n",
       "    <tr>\n",
       "      <th>std</th>\n",
       "      <td>9.082101</td>\n",
       "      <td>0.466011</td>\n",
       "      <td>1.032052</td>\n",
       "      <td>17.538143</td>\n",
       "      <td>51.830751</td>\n",
       "      <td>0.356198</td>\n",
       "      <td>0.525860</td>\n",
       "      <td>22.905161</td>\n",
       "      <td>0.469794</td>\n",
       "      <td>1.161075</td>\n",
       "      <td>0.616226</td>\n",
       "      <td>1.022606</td>\n",
       "      <td>0.612277</td>\n",
       "      <td>0.498835</td>\n",
       "    </tr>\n",
       "    <tr>\n",
       "      <th>min</th>\n",
       "      <td>29.000000</td>\n",
       "      <td>0.000000</td>\n",
       "      <td>0.000000</td>\n",
       "      <td>94.000000</td>\n",
       "      <td>126.000000</td>\n",
       "      <td>0.000000</td>\n",
       "      <td>0.000000</td>\n",
       "      <td>71.000000</td>\n",
       "      <td>0.000000</td>\n",
       "      <td>0.000000</td>\n",
       "      <td>0.000000</td>\n",
       "      <td>0.000000</td>\n",
       "      <td>0.000000</td>\n",
       "      <td>0.000000</td>\n",
       "    </tr>\n",
       "    <tr>\n",
       "      <th>25%</th>\n",
       "      <td>47.500000</td>\n",
       "      <td>0.000000</td>\n",
       "      <td>0.000000</td>\n",
       "      <td>120.000000</td>\n",
       "      <td>211.000000</td>\n",
       "      <td>0.000000</td>\n",
       "      <td>0.000000</td>\n",
       "      <td>133.500000</td>\n",
       "      <td>0.000000</td>\n",
       "      <td>0.000000</td>\n",
       "      <td>1.000000</td>\n",
       "      <td>0.000000</td>\n",
       "      <td>2.000000</td>\n",
       "      <td>0.000000</td>\n",
       "    </tr>\n",
       "    <tr>\n",
       "      <th>50%</th>\n",
       "      <td>55.000000</td>\n",
       "      <td>1.000000</td>\n",
       "      <td>1.000000</td>\n",
       "      <td>130.000000</td>\n",
       "      <td>240.000000</td>\n",
       "      <td>0.000000</td>\n",
       "      <td>1.000000</td>\n",
       "      <td>153.000000</td>\n",
       "      <td>0.000000</td>\n",
       "      <td>0.800000</td>\n",
       "      <td>1.000000</td>\n",
       "      <td>0.000000</td>\n",
       "      <td>2.000000</td>\n",
       "      <td>1.000000</td>\n",
       "    </tr>\n",
       "    <tr>\n",
       "      <th>75%</th>\n",
       "      <td>61.000000</td>\n",
       "      <td>1.000000</td>\n",
       "      <td>2.000000</td>\n",
       "      <td>140.000000</td>\n",
       "      <td>274.500000</td>\n",
       "      <td>0.000000</td>\n",
       "      <td>1.000000</td>\n",
       "      <td>166.000000</td>\n",
       "      <td>1.000000</td>\n",
       "      <td>1.600000</td>\n",
       "      <td>2.000000</td>\n",
       "      <td>1.000000</td>\n",
       "      <td>3.000000</td>\n",
       "      <td>1.000000</td>\n",
       "    </tr>\n",
       "    <tr>\n",
       "      <th>max</th>\n",
       "      <td>77.000000</td>\n",
       "      <td>1.000000</td>\n",
       "      <td>3.000000</td>\n",
       "      <td>200.000000</td>\n",
       "      <td>564.000000</td>\n",
       "      <td>1.000000</td>\n",
       "      <td>2.000000</td>\n",
       "      <td>202.000000</td>\n",
       "      <td>1.000000</td>\n",
       "      <td>6.200000</td>\n",
       "      <td>2.000000</td>\n",
       "      <td>4.000000</td>\n",
       "      <td>3.000000</td>\n",
       "      <td>1.000000</td>\n",
       "    </tr>\n",
       "  </tbody>\n",
       "</table>\n",
       "</div>"
      ],
      "text/plain": [
       "              age         sex          cp    trestbps        chol         fbs  \\\n",
       "count  303.000000  303.000000  303.000000  303.000000  303.000000  303.000000   \n",
       "mean    54.366337    0.683168    0.966997  131.623762  246.264026    0.148515   \n",
       "std      9.082101    0.466011    1.032052   17.538143   51.830751    0.356198   \n",
       "min     29.000000    0.000000    0.000000   94.000000  126.000000    0.000000   \n",
       "25%     47.500000    0.000000    0.000000  120.000000  211.000000    0.000000   \n",
       "50%     55.000000    1.000000    1.000000  130.000000  240.000000    0.000000   \n",
       "75%     61.000000    1.000000    2.000000  140.000000  274.500000    0.000000   \n",
       "max     77.000000    1.000000    3.000000  200.000000  564.000000    1.000000   \n",
       "\n",
       "          restecg     thalach       exang     oldpeak       slope          ca  \\\n",
       "count  303.000000  303.000000  303.000000  303.000000  303.000000  303.000000   \n",
       "mean     0.528053  149.646865    0.326733    1.039604    1.399340    0.729373   \n",
       "std      0.525860   22.905161    0.469794    1.161075    0.616226    1.022606   \n",
       "min      0.000000   71.000000    0.000000    0.000000    0.000000    0.000000   \n",
       "25%      0.000000  133.500000    0.000000    0.000000    1.000000    0.000000   \n",
       "50%      1.000000  153.000000    0.000000    0.800000    1.000000    0.000000   \n",
       "75%      1.000000  166.000000    1.000000    1.600000    2.000000    1.000000   \n",
       "max      2.000000  202.000000    1.000000    6.200000    2.000000    4.000000   \n",
       "\n",
       "             thal      target  \n",
       "count  303.000000  303.000000  \n",
       "mean     2.313531    0.544554  \n",
       "std      0.612277    0.498835  \n",
       "min      0.000000    0.000000  \n",
       "25%      2.000000    0.000000  \n",
       "50%      2.000000    1.000000  \n",
       "75%      3.000000    1.000000  \n",
       "max      3.000000    1.000000  "
      ]
     },
     "execution_count": 8,
     "metadata": {},
     "output_type": "execute_result"
    }
   ],
   "source": [
    "data.describe()"
   ]
  },
  {
   "cell_type": "code",
   "execution_count": 9,
   "id": "fef8c8d8",
   "metadata": {},
   "outputs": [
    {
     "data": {
      "text/plain": [
       "age         0\n",
       "sex         0\n",
       "cp          0\n",
       "trestbps    0\n",
       "chol        0\n",
       "fbs         0\n",
       "restecg     0\n",
       "thalach     0\n",
       "exang       0\n",
       "oldpeak     0\n",
       "slope       0\n",
       "ca          0\n",
       "thal        0\n",
       "target      0\n",
       "dtype: int64"
      ]
     },
     "execution_count": 9,
     "metadata": {},
     "output_type": "execute_result"
    }
   ],
   "source": [
    "data.isnull().sum()"
   ]
  },
  {
   "cell_type": "markdown",
   "id": "8ed24440",
   "metadata": {},
   "source": [
    "# Heart disease frequency acc to sex"
   ]
  },
  {
   "cell_type": "code",
   "execution_count": 10,
   "id": "a99695e2",
   "metadata": {},
   "outputs": [
    {
     "data": {
      "text/plain": [
       "1    207\n",
       "0     96\n",
       "Name: sex, dtype: int64"
      ]
     },
     "execution_count": 10,
     "metadata": {},
     "output_type": "execute_result"
    }
   ],
   "source": [
    "data.sex.value_counts() # 1=male, 0=female"
   ]
  },
  {
   "cell_type": "code",
   "execution_count": 11,
   "id": "8828119f",
   "metadata": {},
   "outputs": [
    {
     "name": "stdout",
     "output_type": "stream",
     "text": [
      "207 males and 96 females\n",
      "1 --> Heart Disease - 165, 0 --> No Heart Disease - 138\n"
     ]
    },
    {
     "data": {
      "text/html": [
       "<div>\n",
       "<style scoped>\n",
       "    .dataframe tbody tr th:only-of-type {\n",
       "        vertical-align: middle;\n",
       "    }\n",
       "\n",
       "    .dataframe tbody tr th {\n",
       "        vertical-align: top;\n",
       "    }\n",
       "\n",
       "    .dataframe thead th {\n",
       "        text-align: right;\n",
       "    }\n",
       "</style>\n",
       "<table border=\"1\" class=\"dataframe\">\n",
       "  <thead>\n",
       "    <tr style=\"text-align: right;\">\n",
       "      <th>sex</th>\n",
       "      <th>0</th>\n",
       "      <th>1</th>\n",
       "    </tr>\n",
       "    <tr>\n",
       "      <th>target</th>\n",
       "      <th></th>\n",
       "      <th></th>\n",
       "    </tr>\n",
       "  </thead>\n",
       "  <tbody>\n",
       "    <tr>\n",
       "      <th>0</th>\n",
       "      <td>24</td>\n",
       "      <td>114</td>\n",
       "    </tr>\n",
       "    <tr>\n",
       "      <th>1</th>\n",
       "      <td>72</td>\n",
       "      <td>93</td>\n",
       "    </tr>\n",
       "  </tbody>\n",
       "</table>\n",
       "</div>"
      ],
      "text/plain": [
       "sex      0    1\n",
       "target         \n",
       "0       24  114\n",
       "1       72   93"
      ]
     },
     "execution_count": 11,
     "metadata": {},
     "output_type": "execute_result"
    }
   ],
   "source": [
    "print(\"207 males and 96 females\")\n",
    "print(\"1 --> Heart Disease - 165, 0 --> No Heart Disease - 138\")\n",
    "#Compare target column to sex column\n",
    "pd.crosstab(data.target,data.sex)"
   ]
  },
  {
   "cell_type": "code",
   "execution_count": 12,
   "id": "cb82c97d",
   "metadata": {},
   "outputs": [
    {
     "data": {
      "image/png": "[encoded data removed]",
      "text/plain": [
       "<Figure size 432x288 with 1 Axes>"
      ]
     },
     "metadata": {
      "needs_background": "light"
     },
     "output_type": "display_data"
    }
   ],
   "source": [
    "#plotting it for better understanding\n",
    "pd.crosstab(data.target, data.sex).plot(kind=\"bar\",color = [\"salmon\",\"lightblue\"])\n",
    "plt.title(\"Distribution A/C to Target and Sex\")\n",
    "plt.xlabel(\"0= No Disease, 1= Disease\")\n",
    "plt.ylabel(\"Amount\")\n",
    "plt.legend([\"Female\", \"Male\"])\n",
    "plt.xticks(rotation=0);"
   ]
  },
  {
   "cell_type": "code",
   "execution_count": 13,
   "id": "7145526b",
   "metadata": {},
   "outputs": [
    {
     "data": {
      "image/png": "[encoded data removed]",
      "text/plain": [
       "<Figure size 2160x720 with 1 Axes>"
      ]
     },
     "metadata": {
      "needs_background": "light"
     },
     "output_type": "display_data"
    }
   ],
   "source": [
    "#Heart Disease Frequency for Ages plotting\n",
    "pd.crosstab(data.age,data.target).plot(kind=\"bar\",figsize=(30,10),color=['gold','brown' ])\n",
    "plt.title('Heart Disease Frequency for Ages')\n",
    "plt.xlabel('Age')\n",
    "plt.ylabel('Frequency')\n",
    "plt.show()"
   ]
  },
  {
   "cell_type": "code",
   "execution_count": 14,
   "id": "a11c65fb",
   "metadata": {},
   "outputs": [
    {
     "data": {
      "text/plain": [
       "<AxesSubplot:ylabel='Frequency'>"
      ]
     },
     "execution_count": 14,
     "metadata": {},
     "output_type": "execute_result"
    },
    {
     "data": {
      "image/png": "[encoded data removed]",
      "text/plain": [
       "<Figure size 432x288 with 1 Axes>"
      ]
     },
     "metadata": {
      "needs_background": "light"
     },
     "output_type": "display_data"
    }
   ],
   "source": [
    "# plotting for age distribution\n",
    "data.age.plot.hist()"
   ]
  },
  {
   "cell_type": "markdown",
   "id": "f41f3908",
   "metadata": {},
   "source": [
    "# Data Preprocessing"
   ]
  },
  {
   "cell_type": "code",
   "execution_count": 15,
   "id": "27530ee7",
   "metadata": {},
   "outputs": [],
   "source": [
    "from sklearn.preprocessing import StandardScaler,MinMaxScaler #forScaling Preprocessing"
   ]
  },
  {
   "cell_type": "code",
   "execution_count": 16,
   "id": "c2682b84",
   "metadata": {},
   "outputs": [
    {
     "data": {
      "text/plain": [
       "{'age': 41,\n",
       " 'sex': 2,\n",
       " 'cp': 4,\n",
       " 'trestbps': 49,\n",
       " 'chol': 152,\n",
       " 'fbs': 2,\n",
       " 'restecg': 3,\n",
       " 'thalach': 91,\n",
       " 'exang': 2,\n",
       " 'oldpeak': 40,\n",
       " 'slope': 3,\n",
       " 'ca': 5,\n",
       " 'thal': 4,\n",
       " 'target': 2}"
      ]
     },
     "execution_count": 16,
     "metadata": {},
     "output_type": "execute_result"
    }
   ],
   "source": [
    "{column: len(data[column].unique()) for column in data.columns}"
   ]
  },
  {
   "cell_type": "code",
   "execution_count": 17,
   "id": "8d6ec643",
   "metadata": {},
   "outputs": [],
   "source": [
    "def onehotencode(df,column_dict):\n",
    "    df=df.copy()\n",
    "    for column, prefix in column_dict.items():\n",
    "        dummies = pd.get_dummies(df[column], prefix=prefix)\n",
    "        df = pd.concat([df, dummies], axis=1)\n",
    "        df = df.drop(column, axis=1)\n",
    "    return df"
   ]
  },
  {
   "cell_type": "code",
   "execution_count": 18,
   "id": "d2f9261c",
   "metadata": {},
   "outputs": [],
   "source": [
    "def preprocessing(data,scaler):\n",
    "    data=data.copy()\n",
    "    \n",
    "    nominal_features = ['cp', 'slope', 'thal','restecg']\n",
    "    \n",
    "    #dict(zip(['cp', 'slope', 'thal'], ['CP', 'SL', 'TH']))\n",
    "    #{'cp': 'CP', 'slope': 'SL', 'thal': 'TH'}\n",
    "    \n",
    "    #One-hot encode the nominal features\n",
    "    data = onehotencode(data, dict(zip(nominal_features, ['CP', 'SL', 'TH','RECG'])))\n",
    "    \n",
    "    \n",
    "    # Split df into X and y\n",
    "    y = data['target'].copy()\n",
    "    X = data.drop('target', axis=1).copy()\n",
    "    \n",
    "    #Scale X\n",
    "    X = pd.DataFrame(scaler.fit_transform(X), columns=X.columns)\n",
    "    return X,y"
   ]
  },
  {
   "cell_type": "code",
   "execution_count": 19,
   "id": "6acad166",
   "metadata": {},
   "outputs": [],
   "source": [
    "X, y = preprocessing(data,StandardScaler())"
   ]
  },
  {
   "cell_type": "code",
   "execution_count": 20,
   "id": "ca619319",
   "metadata": {},
   "outputs": [
    {
     "data": {
      "text/html": [
       "<div>\n",
       "<style scoped>\n",
       "    .dataframe tbody tr th:only-of-type {\n",
       "        vertical-align: middle;\n",
       "    }\n",
       "\n",
       "    .dataframe tbody tr th {\n",
       "        vertical-align: top;\n",
       "    }\n",
       "\n",
       "    .dataframe thead th {\n",
       "        text-align: right;\n",
       "    }\n",
       "</style>\n",
       "<table border=\"1\" class=\"dataframe\">\n",
       "  <thead>\n",
       "    <tr style=\"text-align: right;\">\n",
       "      <th></th>\n",
       "      <th>age</th>\n",
       "      <th>sex</th>\n",
       "      <th>trestbps</th>\n",
       "      <th>chol</th>\n",
       "      <th>fbs</th>\n",
       "      <th>thalach</th>\n",
       "      <th>exang</th>\n",
       "      <th>oldpeak</th>\n",
       "      <th>ca</th>\n",
       "      <th>CP_0</th>\n",
       "      <th>...</th>\n",
       "      <th>SL_0</th>\n",
       "      <th>SL_1</th>\n",
       "      <th>SL_2</th>\n",
       "      <th>TH_0</th>\n",
       "      <th>TH_1</th>\n",
       "      <th>TH_2</th>\n",
       "      <th>TH_3</th>\n",
       "      <th>RECG_0</th>\n",
       "      <th>RECG_1</th>\n",
       "      <th>RECG_2</th>\n",
       "    </tr>\n",
       "  </thead>\n",
       "  <tbody>\n",
       "    <tr>\n",
       "      <th>0</th>\n",
       "      <td>0.952197</td>\n",
       "      <td>0.681005</td>\n",
       "      <td>0.763956</td>\n",
       "      <td>-0.256334</td>\n",
       "      <td>2.394438</td>\n",
       "      <td>0.015443</td>\n",
       "      <td>-0.696631</td>\n",
       "      <td>1.087338</td>\n",
       "      <td>-0.714429</td>\n",
       "      <td>-0.945384</td>\n",
       "      <td>...</td>\n",
       "      <td>3.664502</td>\n",
       "      <td>-0.926766</td>\n",
       "      <td>-0.939142</td>\n",
       "      <td>-0.081514</td>\n",
       "      <td>3.979112</td>\n",
       "      <td>-1.100763</td>\n",
       "      <td>-0.793116</td>\n",
       "      <td>1.030158</td>\n",
       "      <td>-1.003306</td>\n",
       "      <td>-0.115663</td>\n",
       "    </tr>\n",
       "    <tr>\n",
       "      <th>1</th>\n",
       "      <td>-1.915313</td>\n",
       "      <td>0.681005</td>\n",
       "      <td>-0.092738</td>\n",
       "      <td>0.072199</td>\n",
       "      <td>-0.417635</td>\n",
       "      <td>1.633471</td>\n",
       "      <td>-0.696631</td>\n",
       "      <td>2.122573</td>\n",
       "      <td>-0.714429</td>\n",
       "      <td>-0.945384</td>\n",
       "      <td>...</td>\n",
       "      <td>3.664502</td>\n",
       "      <td>-0.926766</td>\n",
       "      <td>-0.939142</td>\n",
       "      <td>-0.081514</td>\n",
       "      <td>-0.251312</td>\n",
       "      <td>0.908461</td>\n",
       "      <td>-0.793116</td>\n",
       "      <td>-0.970725</td>\n",
       "      <td>0.996705</td>\n",
       "      <td>-0.115663</td>\n",
       "    </tr>\n",
       "    <tr>\n",
       "      <th>2</th>\n",
       "      <td>-1.474158</td>\n",
       "      <td>-1.468418</td>\n",
       "      <td>-0.092738</td>\n",
       "      <td>-0.816773</td>\n",
       "      <td>-0.417635</td>\n",
       "      <td>0.977514</td>\n",
       "      <td>-0.696631</td>\n",
       "      <td>0.310912</td>\n",
       "      <td>-0.714429</td>\n",
       "      <td>-0.945384</td>\n",
       "      <td>...</td>\n",
       "      <td>-0.272888</td>\n",
       "      <td>-0.926766</td>\n",
       "      <td>1.064802</td>\n",
       "      <td>-0.081514</td>\n",
       "      <td>-0.251312</td>\n",
       "      <td>0.908461</td>\n",
       "      <td>-0.793116</td>\n",
       "      <td>1.030158</td>\n",
       "      <td>-1.003306</td>\n",
       "      <td>-0.115663</td>\n",
       "    </tr>\n",
       "    <tr>\n",
       "      <th>3</th>\n",
       "      <td>0.180175</td>\n",
       "      <td>0.681005</td>\n",
       "      <td>-0.663867</td>\n",
       "      <td>-0.198357</td>\n",
       "      <td>-0.417635</td>\n",
       "      <td>1.239897</td>\n",
       "      <td>-0.696631</td>\n",
       "      <td>-0.206705</td>\n",
       "      <td>-0.714429</td>\n",
       "      <td>-0.945384</td>\n",
       "      <td>...</td>\n",
       "      <td>-0.272888</td>\n",
       "      <td>-0.926766</td>\n",
       "      <td>1.064802</td>\n",
       "      <td>-0.081514</td>\n",
       "      <td>-0.251312</td>\n",
       "      <td>0.908461</td>\n",
       "      <td>-0.793116</td>\n",
       "      <td>-0.970725</td>\n",
       "      <td>0.996705</td>\n",
       "      <td>-0.115663</td>\n",
       "    </tr>\n",
       "    <tr>\n",
       "      <th>4</th>\n",
       "      <td>0.290464</td>\n",
       "      <td>-1.468418</td>\n",
       "      <td>-0.663867</td>\n",
       "      <td>2.082050</td>\n",
       "      <td>-0.417635</td>\n",
       "      <td>0.583939</td>\n",
       "      <td>1.435481</td>\n",
       "      <td>-0.379244</td>\n",
       "      <td>-0.714429</td>\n",
       "      <td>1.057772</td>\n",
       "      <td>...</td>\n",
       "      <td>-0.272888</td>\n",
       "      <td>-0.926766</td>\n",
       "      <td>1.064802</td>\n",
       "      <td>-0.081514</td>\n",
       "      <td>-0.251312</td>\n",
       "      <td>0.908461</td>\n",
       "      <td>-0.793116</td>\n",
       "      <td>-0.970725</td>\n",
       "      <td>0.996705</td>\n",
       "      <td>-0.115663</td>\n",
       "    </tr>\n",
       "    <tr>\n",
       "      <th>...</th>\n",
       "      <td>...</td>\n",
       "      <td>...</td>\n",
       "      <td>...</td>\n",
       "      <td>...</td>\n",
       "      <td>...</td>\n",
       "      <td>...</td>\n",
       "      <td>...</td>\n",
       "      <td>...</td>\n",
       "      <td>...</td>\n",
       "      <td>...</td>\n",
       "      <td>...</td>\n",
       "      <td>...</td>\n",
       "      <td>...</td>\n",
       "      <td>...</td>\n",
       "      <td>...</td>\n",
       "      <td>...</td>\n",
       "      <td>...</td>\n",
       "      <td>...</td>\n",
       "      <td>...</td>\n",
       "      <td>...</td>\n",
       "      <td>...</td>\n",
       "    </tr>\n",
       "    <tr>\n",
       "      <th>298</th>\n",
       "      <td>0.290464</td>\n",
       "      <td>-1.468418</td>\n",
       "      <td>0.478391</td>\n",
       "      <td>-0.101730</td>\n",
       "      <td>-0.417635</td>\n",
       "      <td>-1.165281</td>\n",
       "      <td>1.435481</td>\n",
       "      <td>-0.724323</td>\n",
       "      <td>-0.714429</td>\n",
       "      <td>1.057772</td>\n",
       "      <td>...</td>\n",
       "      <td>-0.272888</td>\n",
       "      <td>1.079021</td>\n",
       "      <td>-0.939142</td>\n",
       "      <td>-0.081514</td>\n",
       "      <td>-0.251312</td>\n",
       "      <td>-1.100763</td>\n",
       "      <td>1.260850</td>\n",
       "      <td>-0.970725</td>\n",
       "      <td>0.996705</td>\n",
       "      <td>-0.115663</td>\n",
       "    </tr>\n",
       "    <tr>\n",
       "      <th>299</th>\n",
       "      <td>-1.033002</td>\n",
       "      <td>0.681005</td>\n",
       "      <td>-1.234996</td>\n",
       "      <td>0.342756</td>\n",
       "      <td>-0.417635</td>\n",
       "      <td>-0.771706</td>\n",
       "      <td>-0.696631</td>\n",
       "      <td>0.138373</td>\n",
       "      <td>-0.714429</td>\n",
       "      <td>-0.945384</td>\n",
       "      <td>...</td>\n",
       "      <td>-0.272888</td>\n",
       "      <td>1.079021</td>\n",
       "      <td>-0.939142</td>\n",
       "      <td>-0.081514</td>\n",
       "      <td>-0.251312</td>\n",
       "      <td>-1.100763</td>\n",
       "      <td>1.260850</td>\n",
       "      <td>-0.970725</td>\n",
       "      <td>0.996705</td>\n",
       "      <td>-0.115663</td>\n",
       "    </tr>\n",
       "    <tr>\n",
       "      <th>300</th>\n",
       "      <td>1.503641</td>\n",
       "      <td>0.681005</td>\n",
       "      <td>0.706843</td>\n",
       "      <td>-1.029353</td>\n",
       "      <td>2.394438</td>\n",
       "      <td>-0.378132</td>\n",
       "      <td>-0.696631</td>\n",
       "      <td>2.036303</td>\n",
       "      <td>1.244593</td>\n",
       "      <td>1.057772</td>\n",
       "      <td>...</td>\n",
       "      <td>-0.272888</td>\n",
       "      <td>1.079021</td>\n",
       "      <td>-0.939142</td>\n",
       "      <td>-0.081514</td>\n",
       "      <td>-0.251312</td>\n",
       "      <td>-1.100763</td>\n",
       "      <td>1.260850</td>\n",
       "      <td>-0.970725</td>\n",
       "      <td>0.996705</td>\n",
       "      <td>-0.115663</td>\n",
       "    </tr>\n",
       "    <tr>\n",
       "      <th>301</th>\n",
       "      <td>0.290464</td>\n",
       "      <td>0.681005</td>\n",
       "      <td>-0.092738</td>\n",
       "      <td>-2.227533</td>\n",
       "      <td>-0.417635</td>\n",
       "      <td>-1.515125</td>\n",
       "      <td>1.435481</td>\n",
       "      <td>0.138373</td>\n",
       "      <td>0.265082</td>\n",
       "      <td>1.057772</td>\n",
       "      <td>...</td>\n",
       "      <td>-0.272888</td>\n",
       "      <td>1.079021</td>\n",
       "      <td>-0.939142</td>\n",
       "      <td>-0.081514</td>\n",
       "      <td>-0.251312</td>\n",
       "      <td>-1.100763</td>\n",
       "      <td>1.260850</td>\n",
       "      <td>-0.970725</td>\n",
       "      <td>0.996705</td>\n",
       "      <td>-0.115663</td>\n",
       "    </tr>\n",
       "    <tr>\n",
       "      <th>302</th>\n",
       "      <td>0.290464</td>\n",
       "      <td>-1.468418</td>\n",
       "      <td>-0.092738</td>\n",
       "      <td>-0.198357</td>\n",
       "      <td>-0.417635</td>\n",
       "      <td>1.064975</td>\n",
       "      <td>-0.696631</td>\n",
       "      <td>-0.896862</td>\n",
       "      <td>0.265082</td>\n",
       "      <td>-0.945384</td>\n",
       "      <td>...</td>\n",
       "      <td>-0.272888</td>\n",
       "      <td>1.079021</td>\n",
       "      <td>-0.939142</td>\n",
       "      <td>-0.081514</td>\n",
       "      <td>-0.251312</td>\n",
       "      <td>0.908461</td>\n",
       "      <td>-0.793116</td>\n",
       "      <td>1.030158</td>\n",
       "      <td>-1.003306</td>\n",
       "      <td>-0.115663</td>\n",
       "    </tr>\n",
       "  </tbody>\n",
       "</table>\n",
       "<p>303 rows × 23 columns</p>\n",
       "</div>"
      ],
      "text/plain": [
       "          age       sex  trestbps      chol       fbs   thalach     exang  \\\n",
       "0    0.952197  0.681005  0.763956 -0.256334  2.394438  0.015443 -0.696631   \n",
       "1   -1.915313  0.681005 -0.092738  0.072199 -0.417635  1.633471 -0.696631   \n",
       "2   -1.474158 -1.468418 -0.092738 -0.816773 -0.417635  0.977514 -0.696631   \n",
       "3    0.180175  0.681005 -0.663867 -0.198357 -0.417635  1.239897 -0.696631   \n",
       "4    0.290464 -1.468418 -0.663867  2.082050 -0.417635  0.583939  1.435481   \n",
       "..        ...       ...       ...       ...       ...       ...       ...   \n",
       "298  0.290464 -1.468418  0.478391 -0.101730 -0.417635 -1.165281  1.435481   \n",
       "299 -1.033002  0.681005 -1.234996  0.342756 -0.417635 -0.771706 -0.696631   \n",
       "300  1.503641  0.681005  0.706843 -1.029353  2.394438 -0.378132 -0.696631   \n",
       "301  0.290464  0.681005 -0.092738 -2.227533 -0.417635 -1.515125  1.435481   \n",
       "302  0.290464 -1.468418 -0.092738 -0.198357 -0.417635  1.064975 -0.696631   \n",
       "\n",
       "      oldpeak        ca      CP_0  ...      SL_0      SL_1      SL_2  \\\n",
       "0    1.087338 -0.714429 -0.945384  ...  3.664502 -0.926766 -0.939142   \n",
       "1    2.122573 -0.714429 -0.945384  ...  3.664502 -0.926766 -0.939142   \n",
       "2    0.310912 -0.714429 -0.945384  ... -0.272888 -0.926766  1.064802   \n",
       "3   -0.206705 -0.714429 -0.945384  ... -0.272888 -0.926766  1.064802   \n",
       "4   -0.379244 -0.714429  1.057772  ... -0.272888 -0.926766  1.064802   \n",
       "..        ...       ...       ...  ...       ...       ...       ...   \n",
       "298 -0.724323 -0.714429  1.057772  ... -0.272888  1.079021 -0.939142   \n",
       "299  0.138373 -0.714429 -0.945384  ... -0.272888  1.079021 -0.939142   \n",
       "300  2.036303  1.244593  1.057772  ... -0.272888  1.079021 -0.939142   \n",
       "301  0.138373  0.265082  1.057772  ... -0.272888  1.079021 -0.939142   \n",
       "302 -0.896862  0.265082 -0.945384  ... -0.272888  1.079021 -0.939142   \n",
       "\n",
       "         TH_0      TH_1      TH_2      TH_3    RECG_0    RECG_1    RECG_2  \n",
       "0   -0.081514  3.979112 -1.100763 -0.793116  1.030158 -1.003306 -0.115663  \n",
       "1   -0.081514 -0.251312  0.908461 -0.793116 -0.970725  0.996705 -0.115663  \n",
       "2   -0.081514 -0.251312  0.908461 -0.793116  1.030158 -1.003306 -0.115663  \n",
       "3   -0.081514 -0.251312  0.908461 -0.793116 -0.970725  0.996705 -0.115663  \n",
       "4   -0.081514 -0.251312  0.908461 -0.793116 -0.970725  0.996705 -0.115663  \n",
       "..        ...       ...       ...       ...       ...       ...       ...  \n",
       "298 -0.081514 -0.251312 -1.100763  1.260850 -0.970725  0.996705 -0.115663  \n",
       "299 -0.081514 -0.251312 -1.100763  1.260850 -0.970725  0.996705 -0.115663  \n",
       "300 -0.081514 -0.251312 -1.100763  1.260850 -0.970725  0.996705 -0.115663  \n",
       "301 -0.081514 -0.251312 -1.100763  1.260850 -0.970725  0.996705 -0.115663  \n",
       "302 -0.081514 -0.251312  0.908461 -0.793116  1.030158 -1.003306 -0.115663  \n",
       "\n",
       "[303 rows x 23 columns]"
      ]
     },
     "execution_count": 20,
     "metadata": {},
     "output_type": "execute_result"
    }
   ],
   "source": [
    "X"
   ]
  },
  {
   "cell_type": "code",
   "execution_count": 21,
   "id": "1f82d649",
   "metadata": {},
   "outputs": [
    {
     "data": {
      "text/plain": [
       "0      1\n",
       "1      1\n",
       "2      1\n",
       "3      1\n",
       "4      1\n",
       "      ..\n",
       "298    0\n",
       "299    0\n",
       "300    0\n",
       "301    0\n",
       "302    0\n",
       "Name: target, Length: 303, dtype: int64"
      ]
     },
     "execution_count": 21,
     "metadata": {},
     "output_type": "execute_result"
    }
   ],
   "source": [
    "y"
   ]
  },
  {
   "cell_type": "markdown",
   "id": "c32d345e",
   "metadata": {},
   "source": [
    "# Training"
   ]
  },
  {
   "cell_type": "code",
   "execution_count": 22,
   "id": "624a0787",
   "metadata": {},
   "outputs": [
    {
     "name": "stdout",
     "output_type": "stream",
     "text": [
      "X.shape =  (303, 23) X_train.shape =  (242, 23) X_test.shape =  (61, 23)\n"
     ]
    }
   ],
   "source": [
    "from sklearn.model_selection import train_test_split\n",
    "X_train, X_test, y_train, y_test = train_test_split(X, y, train_size = 0.8, random_state = 40)\n",
    "print(\"X.shape = \",X.shape, \"X_train.shape = \",X_train.shape, \"X_test.shape = \",X_test.shape)"
   ]
  },
  {
   "cell_type": "markdown",
   "id": "9c4e279b",
   "metadata": {},
   "source": [
    "# Testing Using Different Models And Evaluating Using Performance Metrics"
   ]
  },
  {
   "cell_type": "markdown",
   "id": "a1b71e72",
   "metadata": {},
   "source": [
    "# 1. LogisticRegression"
   ]
  },
  {
   "cell_type": "code",
   "execution_count": 23,
   "id": "063f3542",
   "metadata": {},
   "outputs": [],
   "source": [
    "from sklearn.linear_model import LogisticRegression\n",
    "lr=LogisticRegression()\n",
    "\n",
    "model1=lr.fit(X_train,y_train)\n",
    "prediction1=model1.predict(X_test)"
   ]
  },
  {
   "cell_type": "code",
   "execution_count": 24,
   "id": "a661d2b8",
   "metadata": {},
   "outputs": [
    {
     "data": {
      "text/plain": [
       "array([[22,  4],\n",
       "       [ 2, 33]], dtype=int64)"
      ]
     },
     "execution_count": 24,
     "metadata": {},
     "output_type": "execute_result"
    }
   ],
   "source": [
    "from sklearn.metrics import confusion_matrix\n",
    "\n",
    "CMatrix1=confusion_matrix(y_test,prediction1)\n",
    "CMatrix1"
   ]
  },
  {
   "cell_type": "code",
   "execution_count": 25,
   "id": "9b5c5ed2",
   "metadata": {},
   "outputs": [
    {
     "data": {
      "text/plain": [
       "<AxesSubplot:>"
      ]
     },
     "execution_count": 25,
     "metadata": {},
     "output_type": "execute_result"
    },
    {
     "data": {
      "image/png": "[encoded data removed]",
      "text/plain": [
       "<Figure size 432x288 with 2 Axes>"
      ]
     },
     "metadata": {
      "needs_background": "light"
     },
     "output_type": "display_data"
    }
   ],
   "source": [
    "import seaborn as sns\n",
    "sns.heatmap(CMatrix1, annot=True,cmap='BuPu')"
   ]
  },
  {
   "cell_type": "code",
   "execution_count": 26,
   "id": "283c8dc6",
   "metadata": {},
   "outputs": [
    {
     "name": "stdout",
     "output_type": "stream",
     "text": [
      "Testing Accuracy For LR: 0.9016393442622951\n"
     ]
    }
   ],
   "source": [
    "TP=CMatrix1[0][0]\n",
    "TN=CMatrix1[1][1]\n",
    "FN=CMatrix1[1][0]\n",
    "FP=CMatrix1[0][1]\n",
    "print('Testing Accuracy For LR:',(TP+TN)/(TP+TN+FN+FP))"
   ]
  },
  {
   "cell_type": "code",
   "execution_count": 27,
   "id": "c490a51f",
   "metadata": {},
   "outputs": [
    {
     "name": "stdout",
     "output_type": "stream",
     "text": [
      "0.9016393442622951\n",
      "Logistic Regression Accuracy: 90.16%\n"
     ]
    }
   ],
   "source": [
    "from sklearn.metrics import accuracy_score\n",
    "print(accuracy_score(y_test,prediction1))\n",
    "print(\"Logistic Regression Accuracy: {:.2f}%\".format(accuracy_score(y_test,prediction1)*100))"
   ]
  },
  {
   "cell_type": "code",
   "execution_count": 28,
   "id": "b3eb2ca9",
   "metadata": {},
   "outputs": [
    {
     "name": "stdout",
     "output_type": "stream",
     "text": [
      "              precision    recall  f1-score   support\n",
      "\n",
      "           0       0.92      0.85      0.88        26\n",
      "           1       0.89      0.94      0.92        35\n",
      "\n",
      "    accuracy                           0.90        61\n",
      "   macro avg       0.90      0.89      0.90        61\n",
      "weighted avg       0.90      0.90      0.90        61\n",
      "\n"
     ]
    }
   ],
   "source": [
    "from sklearn.metrics import classification_report\n",
    "print(classification_report(y_test, prediction1))"
   ]
  },
  {
   "cell_type": "markdown",
   "id": "b7646bb3",
   "metadata": {},
   "source": [
    "# 2.MLP classification\n",
    "1. MLPClassifier stands for Multi-layer Perceptron classifier\n",
    "2. A multilayer perceptron (MLP) is a feedforward artificial neural network that generates a set of outputs from a set of inputs. An MLP is characterized by several layers of input nodes connected as a directed graph between the input and output layers. MLP uses backpropogation for training the network. MLP is a deep learning method."
   ]
  },
  {
   "cell_type": "code",
   "execution_count": 29,
   "id": "eb326930",
   "metadata": {},
   "outputs": [],
   "source": [
    "from sklearn.neural_network import MLPClassifier\n",
    "nn_model = MLPClassifier()\n",
    "model2=nn_model.fit(X_train,y_train)\n",
    "prediction2=model2.predict(X_test)"
   ]
  },
  {
   "cell_type": "code",
   "execution_count": 30,
   "id": "ddc510c8",
   "metadata": {},
   "outputs": [
    {
     "data": {
      "text/plain": [
       "array([[21,  5],\n",
       "       [ 5, 30]], dtype=int64)"
      ]
     },
     "execution_count": 30,
     "metadata": {},
     "output_type": "execute_result"
    }
   ],
   "source": [
    "CMatrix2=confusion_matrix(y_test,prediction2)\n",
    "CMatrix2"
   ]
  },
  {
   "cell_type": "code",
   "execution_count": 31,
   "id": "d6a6c145",
   "metadata": {},
   "outputs": [
    {
     "data": {
      "text/plain": [
       "<AxesSubplot:>"
      ]
     },
     "execution_count": 31,
     "metadata": {},
     "output_type": "execute_result"
    },
    {
     "data": {
      "image/png": "[encoded data removed]",
      "text/plain": [
       "<Figure size 432x288 with 2 Axes>"
      ]
     },
     "metadata": {
      "needs_background": "light"
     },
     "output_type": "display_data"
    }
   ],
   "source": [
    "sns.heatmap(CMatrix2, annot=True,cmap=\"Blues\")"
   ]
  },
  {
   "cell_type": "code",
   "execution_count": 32,
   "id": "1fb70754",
   "metadata": {},
   "outputs": [
    {
     "name": "stdout",
     "output_type": "stream",
     "text": [
      "Testing Accuracy For MLP: 0.8360655737704918\n"
     ]
    }
   ],
   "source": [
    "TP=CMatrix2[0][0]\n",
    "TN=CMatrix2[1][1]\n",
    "FN=CMatrix2[1][0]\n",
    "FP=CMatrix2[0][1]\n",
    "print('Testing Accuracy For MLP:',(TP+TN)/(TP+TN+FN+FP))"
   ]
  },
  {
   "cell_type": "code",
   "execution_count": 33,
   "id": "b09d7c06",
   "metadata": {},
   "outputs": [
    {
     "name": "stdout",
     "output_type": "stream",
     "text": [
      "Neural Network Accuracy MLP: 83.61%\n"
     ]
    }
   ],
   "source": [
    "accuracy_score(y_test,prediction2)*100\n",
    "print(\"Neural Network Accuracy MLP: {:.2f}%\".format(accuracy_score(y_test,prediction2)*100))"
   ]
  },
  {
   "cell_type": "markdown",
   "id": "34a1bfad",
   "metadata": {},
   "source": [
    "# 3. ANN Classification\n",
    "The network has 4 layers, 3 hidden layer and an output layer. The hidden layer will use the relu function for  activations and the output layer will use the sigmoid funtion for activations (For Binary Results). The output layer has only one node and is used for the regression, the output of the node is the same as the input of the node. \n",
    "\n",
    "1. That is, the activation function is  f(x)=x . A function that takes the input signal and generates an output signal, but takes into account the threshold, is called an activation function. We work through each layer of our network calculating the outputs for each neuron. All of the outputs from one layer become inputs to the neurons on the next layer. This process is called forward propagation.\n",
    "\n",
    "2. We use the weights to propagate signals forward from the input to the output layers in a neural network. We use the weights to also propagate error backwards from the output back into the network to update our weights. This is called backpropagation."
   ]
  },
  {
   "cell_type": "markdown",
   "id": "f0de2407",
   "metadata": {},
   "source": [
    "## Creating Testing Dataset for ANN Model"
   ]
  },
  {
   "cell_type": "code",
   "execution_count": 34,
   "id": "4ab3df07",
   "metadata": {},
   "outputs": [
    {
     "data": {
      "text/plain": [
       "(49, 14)"
      ]
     },
     "execution_count": 34,
     "metadata": {},
     "output_type": "execute_result"
    }
   ],
   "source": [
    "testds=pd.read_csv(\"testdata.csv\")\n",
    "testds.shape"
   ]
  },
  {
   "cell_type": "code",
   "execution_count": 35,
   "id": "90a0cdef",
   "metadata": {},
   "outputs": [],
   "source": [
    "ytds = testds['target'].copy()\n",
    "Xtds = testds.drop('target', axis=1).copy()"
   ]
  },
  {
   "cell_type": "code",
   "execution_count": 36,
   "id": "73e3eb41",
   "metadata": {},
   "outputs": [],
   "source": [
    "#{column: len(testds[column].unique()) for column in testds.columns}\n",
    "Xtds, ytds = preprocessing(testds,StandardScaler())"
   ]
  },
  {
   "cell_type": "code",
   "execution_count": 37,
   "id": "a8c108dc",
   "metadata": {},
   "outputs": [],
   "source": [
    "#from keras.models import Sequential\n",
    "#from keras.layers import Conv2D, MaxPooling2D\n",
    "#from keras.layers import Activation, Dropout, Flatten, Dense\n",
    "import keras\n",
    "from keras.models import Model\n",
    "from keras.layers import Dense, Input"
   ]
  },
  {
   "cell_type": "code",
   "execution_count": 77,
   "id": "008fa571",
   "metadata": {},
   "outputs": [
    {
     "name": "stdout",
     "output_type": "stream",
     "text": [
      "Model: \"model_4\"\n",
      "_________________________________________________________________\n",
      " Layer (type)                Output Shape              Param #   \n",
      "=================================================================\n",
      " input_5 (InputLayer)        [(None, 23)]              0         \n",
      "                                                                 \n",
      " dense_16 (Dense)            (None, 48)                1152      \n",
      "                                                                 \n",
      " dense_17 (Dense)            (None, 30)                1470      \n",
      "                                                                 \n",
      " dense_18 (Dense)            (None, 14)                434       \n",
      "                                                                 \n",
      " dense_19 (Dense)            (None, 1)                 15        \n",
      "                                                                 \n",
      "=================================================================\n",
      "Total params: 3,071\n",
      "Trainable params: 3,071\n",
      "Non-trainable params: 0\n",
      "_________________________________________________________________\n"
     ]
    }
   ],
   "source": [
    "#funtionalAPI\n",
    "#inputlayer\n",
    "input1 = Input(shape=(X_train.shape[1]))\n",
    "\n",
    "#hidden layer1\n",
    "hidden1 = Dense(48, activation='relu')(input1)\n",
    "#D1 = Dropout(0.5)(hidden1)\n",
    "\n",
    "#hidden layer2\n",
    "hidden2 = Dense(30, activation='relu')(hidden1)\n",
    "#D2 = Dropout(0.5)(hidden2)\n",
    "\n",
    "#hidden layer3\n",
    "hidden3 = Dense(14, activation='relu')(hidden2)\n",
    "#D3 = Dropout(0.5)(hidden3)\n",
    "\n",
    "#output layer\n",
    "output = Dense(1, activation='sigmoid')(hidden3)\n",
    "\n",
    "model3 = Model(inputs=input1, outputs=output)\n",
    "model3.summary()\n",
    "\n",
    "#Compiling the model\n",
    "model3.compile(optimizer=\"adam\",loss=\"binary_crossentropy\",metrics=[\"accuracy\"])"
   ]
  },
  {
   "cell_type": "code",
   "execution_count": 78,
   "id": "74ce1e99",
   "metadata": {},
   "outputs": [],
   "source": [
    "# Creating a callback for ANN model\n",
    "from tensorflow.keras.callbacks import EarlyStopping\n",
    "earlystopping= EarlyStopping(monitor='val_loss', mode='min', patience=5)"
   ]
  },
  {
   "cell_type": "code",
   "execution_count": 79,
   "id": "68ebf17f",
   "metadata": {},
   "outputs": [
    {
     "name": "stdout",
     "output_type": "stream",
     "text": [
      "Epoch 1/60\n",
      "10/10 [==============================] - 1s 22ms/step - loss: 0.6811 - accuracy: 0.5702 - val_loss: 0.6346 - val_accuracy: 0.6885\n",
      "Epoch 2/60\n",
      "10/10 [==============================] - 0s 6ms/step - loss: 0.6130 - accuracy: 0.7438 - val_loss: 0.5755 - val_accuracy: 0.7541\n",
      "Epoch 3/60\n",
      "10/10 [==============================] - 0s 5ms/step - loss: 0.5469 - accuracy: 0.8264 - val_loss: 0.5054 - val_accuracy: 0.8197\n",
      "Epoch 4/60\n",
      "10/10 [==============================] - 0s 5ms/step - loss: 0.4782 - accuracy: 0.8347 - val_loss: 0.4410 - val_accuracy: 0.8525\n",
      "Epoch 5/60\n",
      "10/10 [==============================] - 0s 5ms/step - loss: 0.4198 - accuracy: 0.8430 - val_loss: 0.3909 - val_accuracy: 0.8525\n",
      "Epoch 6/60\n",
      "10/10 [==============================] - 0s 5ms/step - loss: 0.3733 - accuracy: 0.8554 - val_loss: 0.3617 - val_accuracy: 0.8361\n",
      "Epoch 7/60\n",
      "10/10 [==============================] - 0s 5ms/step - loss: 0.3449 - accuracy: 0.8595 - val_loss: 0.3455 - val_accuracy: 0.8361\n",
      "Epoch 8/60\n",
      "10/10 [==============================] - 0s 5ms/step - loss: 0.3246 - accuracy: 0.8595 - val_loss: 0.3394 - val_accuracy: 0.8361\n",
      "Epoch 9/60\n",
      "10/10 [==============================] - 0s 5ms/step - loss: 0.3078 - accuracy: 0.8719 - val_loss: 0.3368 - val_accuracy: 0.8525\n",
      "Epoch 10/60\n",
      "10/10 [==============================] - 0s 5ms/step - loss: 0.2924 - accuracy: 0.8719 - val_loss: 0.3348 - val_accuracy: 0.8525\n",
      "Epoch 11/60\n",
      "10/10 [==============================] - 0s 5ms/step - loss: 0.2792 - accuracy: 0.8719 - val_loss: 0.3327 - val_accuracy: 0.8525\n",
      "Epoch 12/60\n",
      "10/10 [==============================] - 0s 5ms/step - loss: 0.2682 - accuracy: 0.8802 - val_loss: 0.3301 - val_accuracy: 0.8525\n",
      "Epoch 13/60\n",
      "10/10 [==============================] - 0s 5ms/step - loss: 0.2556 - accuracy: 0.8926 - val_loss: 0.3303 - val_accuracy: 0.8525\n",
      "Epoch 14/60\n",
      "10/10 [==============================] - 0s 5ms/step - loss: 0.2431 - accuracy: 0.9091 - val_loss: 0.3309 - val_accuracy: 0.8525\n",
      "Epoch 15/60\n",
      "10/10 [==============================] - 0s 5ms/step - loss: 0.2330 - accuracy: 0.9091 - val_loss: 0.3346 - val_accuracy: 0.8361\n",
      "Epoch 16/60\n",
      "10/10 [==============================] - 0s 5ms/step - loss: 0.2216 - accuracy: 0.9174 - val_loss: 0.3417 - val_accuracy: 0.8361\n",
      "Epoch 17/60\n",
      "10/10 [==============================] - 0s 5ms/step - loss: 0.2115 - accuracy: 0.9215 - val_loss: 0.3442 - val_accuracy: 0.8361\n",
      "Epoch 1/60\n",
      "10/10 [==============================] - 0s 10ms/step - loss: 0.2014 - accuracy: 0.9298 - val_loss: 0.3541 - val_accuracy: 0.8361\n",
      "Epoch 2/60\n",
      "10/10 [==============================] - 0s 6ms/step - loss: 0.1897 - accuracy: 0.9298 - val_loss: 0.3592 - val_accuracy: 0.8361\n",
      "Epoch 3/60\n",
      "10/10 [==============================] - 0s 5ms/step - loss: 0.1815 - accuracy: 0.9380 - val_loss: 0.3637 - val_accuracy: 0.8361\n",
      "Epoch 4/60\n",
      "10/10 [==============================] - 0s 5ms/step - loss: 0.1697 - accuracy: 0.9380 - val_loss: 0.3720 - val_accuracy: 0.8197\n",
      "Epoch 5/60\n",
      "10/10 [==============================] - 0s 6ms/step - loss: 0.1615 - accuracy: 0.9380 - val_loss: 0.3748 - val_accuracy: 0.8197\n",
      "Epoch 6/60\n",
      "10/10 [==============================] - 0s 5ms/step - loss: 0.1527 - accuracy: 0.9504 - val_loss: 0.3814 - val_accuracy: 0.8197\n"
     ]
    },
    {
     "data": {
      "text/plain": [
       "<keras.callbacks.History at 0x24066072a90>"
      ]
     },
     "execution_count": 79,
     "metadata": {},
     "output_type": "execute_result"
    }
   ],
   "source": [
    "# Fittitng the ANN model with training dataset\n",
    "model3_op = model3.fit(X_train, y_train, batch_size = 25, epochs = 60,validation_data=[X_test,y_test],callbacks=[earlystopping])\n",
    "model3.fit(X_train, y_train, batch_size = 25, epochs = 60,validation_data=[X_test,y_test],callbacks=[earlystopping])"
   ]
  },
  {
   "cell_type": "code",
   "execution_count": 80,
   "id": "07002a02",
   "metadata": {},
   "outputs": [
    {
     "name": "stdout",
     "output_type": "stream",
     "text": [
      "2/2 [==============================] - 0s 2ms/step\n"
     ]
    }
   ],
   "source": [
    "# Predicting the Test set results\n",
    "prediction3 = model3.predict(Xtds)"
   ]
  },
  {
   "cell_type": "code",
   "execution_count": 81,
   "id": "511311c7",
   "metadata": {},
   "outputs": [
    {
     "data": {
      "text/plain": [
       "array([[24,  4],\n",
       "       [ 2, 19]], dtype=int64)"
      ]
     },
     "execution_count": 81,
     "metadata": {},
     "output_type": "execute_result"
    }
   ],
   "source": [
    "CMatrix3=confusion_matrix(ytds,prediction3.round())\n",
    "CMatrix3"
   ]
  },
  {
   "cell_type": "code",
   "execution_count": 82,
   "id": "b8890f70",
   "metadata": {},
   "outputs": [
    {
     "data": {
      "text/plain": [
       "<AxesSubplot:>"
      ]
     },
     "execution_count": 82,
     "metadata": {},
     "output_type": "execute_result"
    },
    {
     "data": {
      "image/png": "[encoded data removed]",
      "text/plain": [
       "<Figure size 432x288 with 2 Axes>"
      ]
     },
     "metadata": {
      "needs_background": "light"
     },
     "output_type": "display_data"
    }
   ],
   "source": [
    "sns.heatmap(CMatrix3,annot=True,cmap=\"viridis\")"
   ]
  },
  {
   "cell_type": "code",
   "execution_count": 83,
   "id": "fed2eed3",
   "metadata": {},
   "outputs": [
    {
     "name": "stdout",
     "output_type": "stream",
     "text": [
      "Testing Accuracy For ANN: 0.8775510204081632\n"
     ]
    }
   ],
   "source": [
    "TP=CMatrix3[0][0]\n",
    "TN=CMatrix3[1][1]\n",
    "FN=CMatrix3[1][0]\n",
    "FP=CMatrix3[0][1]\n",
    "print('Testing Accuracy For ANN:',(TP+TN)/(TP+TN+FN+FP))"
   ]
  },
  {
   "cell_type": "code",
   "execution_count": 84,
   "id": "32ab0ed1",
   "metadata": {},
   "outputs": [
    {
     "name": "stdout",
     "output_type": "stream",
     "text": [
      "0.8775510204081632\n",
      "ANN Accuracy: 87.76%\n"
     ]
    }
   ],
   "source": [
    "print(accuracy_score(ytds,prediction3.round()))\n",
    "print(\"ANN Accuracy: {:.2f}%\".format(accuracy_score(ytds,prediction3.round())*100))"
   ]
  },
  {
   "cell_type": "code",
   "execution_count": 85,
   "id": "68050781",
   "metadata": {},
   "outputs": [
    {
     "name": "stdout",
     "output_type": "stream",
     "text": [
      "              precision    recall  f1-score   support\n",
      "\n",
      "           0       0.92      0.86      0.89        28\n",
      "           1       0.83      0.90      0.86        21\n",
      "\n",
      "    accuracy                           0.88        49\n",
      "   macro avg       0.87      0.88      0.88        49\n",
      "weighted avg       0.88      0.88      0.88        49\n",
      "\n"
     ]
    }
   ],
   "source": [
    "from sklearn.metrics import classification_report\n",
    "print(classification_report(ytds, prediction3.round()))"
   ]
  },
  {
   "cell_type": "code",
   "execution_count": 86,
   "id": "30472947",
   "metadata": {},
   "outputs": [
    {
     "data": {
      "image/png": "[encoded data removed]",
      "text/plain": [
       "<Figure size 720x432 with 1 Axes>"
      ]
     },
     "metadata": {
      "needs_background": "light"
     },
     "output_type": "display_data"
    }
   ],
   "source": [
    "#UnderStanding of ANN Output by Plotting\n",
    "# summarize history for accuracy\n",
    "#plt.rcParams[\"figure.figsize\"] = (10,8)\n",
    "plt.figure(figsize=(10, 6))\n",
    "plt.plot(model3_op.history['accuracy'])\n",
    "plt.plot(model3_op.history['val_accuracy'])\n",
    "plt.title('model accuracy')\n",
    "plt.ylabel('accuracy')\n",
    "plt.xlabel('epoch')\n",
    "plt.legend(['train', 'test'], loc='upper left')\n",
    "plt.show()"
   ]
  },
  {
   "cell_type": "markdown",
   "id": "84d4ae4f",
   "metadata": {},
   "source": [
    "# Graph for 3 models"
   ]
  },
  {
   "cell_type": "code",
   "execution_count": 87,
   "id": "9fe40b59",
   "metadata": {},
   "outputs": [
    {
     "data": {
      "text/html": [
       "<div>\n",
       "<style scoped>\n",
       "    .dataframe tbody tr th:only-of-type {\n",
       "        vertical-align: middle;\n",
       "    }\n",
       "\n",
       "    .dataframe tbody tr th {\n",
       "        vertical-align: top;\n",
       "    }\n",
       "\n",
       "    .dataframe thead th {\n",
       "        text-align: right;\n",
       "    }\n",
       "</style>\n",
       "<table border=\"1\" class=\"dataframe\">\n",
       "  <thead>\n",
       "    <tr style=\"text-align: right;\">\n",
       "      <th></th>\n",
       "      <th>Models</th>\n",
       "      <th>Accuracy</th>\n",
       "    </tr>\n",
       "  </thead>\n",
       "  <tbody>\n",
       "    <tr>\n",
       "      <th>0</th>\n",
       "      <td>LR</td>\n",
       "      <td>90.163934</td>\n",
       "    </tr>\n",
       "    <tr>\n",
       "      <th>1</th>\n",
       "      <td>MLP</td>\n",
       "      <td>83.606557</td>\n",
       "    </tr>\n",
       "    <tr>\n",
       "      <th>2</th>\n",
       "      <td>ANN</td>\n",
       "      <td>87.755102</td>\n",
       "    </tr>\n",
       "  </tbody>\n",
       "</table>\n",
       "</div>"
      ],
      "text/plain": [
       "  Models   Accuracy\n",
       "0     LR  90.163934\n",
       "1    MLP  83.606557\n",
       "2    ANN  87.755102"
      ]
     },
     "execution_count": 87,
     "metadata": {},
     "output_type": "execute_result"
    }
   ],
   "source": [
    "final_data=pd.DataFrame({'Models':['LR','MLP','ANN'],\n",
    "                        'Accuracy':[accuracy_score(y_test,prediction1)*100,accuracy_score(y_test,prediction2)*100,accuracy_score(ytds,prediction3.round())*100]})\n",
    "final_data"
   ]
  },
  {
   "cell_type": "code",
   "execution_count": 88,
   "id": "c8232151",
   "metadata": {},
   "outputs": [
    {
     "data": {
      "text/plain": [
       "<AxesSubplot:xlabel='Models', ylabel='Accuracy'>"
      ]
     },
     "execution_count": 88,
     "metadata": {},
     "output_type": "execute_result"
    },
    {
     "data": {
      "image/png": "[encoded data removed]",
      "text/plain": [
       "<Figure size 360x360 with 1 Axes>"
      ]
     },
     "metadata": {
      "needs_background": "light"
     },
     "output_type": "display_data"
    }
   ],
   "source": [
    "plt.figure(figsize=(5, 5))\n",
    "sns.barplot(x =final_data['Models'], y =final_data['Accuracy'])"
   ]
  },
  {
   "cell_type": "markdown",
   "id": "44e4fe37",
   "metadata": {},
   "source": [
    "# Building a Predictive System"
   ]
  },
  {
   "cell_type": "code",
   "execution_count": 89,
   "id": "49e74e7f",
   "metadata": {},
   "outputs": [],
   "source": [
    "#we have trained our model on X_train and y_train (means on 80% data only).\n",
    "#Before model deployment, we have to train our selected mode on 100% data.\n",
    "#So let’s train our LR model on 100% data."
   ]
  },
  {
   "cell_type": "code",
   "execution_count": 90,
   "id": "c52ba530",
   "metadata": {},
   "outputs": [
    {
     "data": {
      "text/plain": [
       "MLPClassifier()"
      ]
     },
     "execution_count": 90,
     "metadata": {},
     "output_type": "execute_result"
    }
   ],
   "source": [
    "y = data['target'].copy()\n",
    "X = data.drop('target', axis=1).copy()\n",
    "#from sklearn.linear_model import LogisticRegression\n",
    "#lr=LogisticRegression()\n",
    "#lr.fit(X,y)\n",
    "from sklearn.neural_network import MLPClassifier\n",
    "deepL_model = MLPClassifier()\n",
    "deepL_model.fit(X,y)"
   ]
  },
  {
   "cell_type": "code",
   "execution_count": 91,
   "id": "5433046b",
   "metadata": {},
   "outputs": [],
   "source": [
    "#Type 1 Of Predicting\n",
    "input_data = (52,1,2,172,199,1,1,162,0,0.5,2,0,3)\n",
    "\n",
    "# change the input data to a numpy array\n",
    "numpy_array= np.asarray(input_data)\n",
    "\n",
    "# reshape the numpy array as we are predicting for only on instance\n",
    "input_data_reshaped = numpy_array.reshape(1,-1)\n",
    "\n",
    "#predictionT1 = lr.predict(input_data_reshaped)\n",
    "predictionT1 = deepL_model.predict(input_data_reshaped)"
   ]
  },
  {
   "cell_type": "code",
   "execution_count": 92,
   "id": "7d46a02f",
   "metadata": {},
   "outputs": [
    {
     "name": "stdout",
     "output_type": "stream",
     "text": [
      "[1]\n",
      "The Person has Heart Disease\n"
     ]
    }
   ],
   "source": [
    "print(predictionT1)\n",
    "\n",
    "if (predictionT1[0]== 0):\n",
    "  print('The Person does not have a Heart Disease')\n",
    "else:\n",
    "  print('The Person has Heart Disease')"
   ]
  },
  {
   "cell_type": "code",
   "execution_count": 93,
   "id": "66a5ff69",
   "metadata": {},
   "outputs": [
    {
     "data": {
      "text/html": [
       "<div>\n",
       "<style scoped>\n",
       "    .dataframe tbody tr th:only-of-type {\n",
       "        vertical-align: middle;\n",
       "    }\n",
       "\n",
       "    .dataframe tbody tr th {\n",
       "        vertical-align: top;\n",
       "    }\n",
       "\n",
       "    .dataframe thead th {\n",
       "        text-align: right;\n",
       "    }\n",
       "</style>\n",
       "<table border=\"1\" class=\"dataframe\">\n",
       "  <thead>\n",
       "    <tr style=\"text-align: right;\">\n",
       "      <th></th>\n",
       "      <th>age</th>\n",
       "      <th>sex</th>\n",
       "      <th>cp</th>\n",
       "      <th>trestbps</th>\n",
       "      <th>chol</th>\n",
       "      <th>fbs</th>\n",
       "      <th>restecg</th>\n",
       "      <th>thalach</th>\n",
       "      <th>exang</th>\n",
       "      <th>oldpeak</th>\n",
       "      <th>slope</th>\n",
       "      <th>ca</th>\n",
       "      <th>thal</th>\n",
       "    </tr>\n",
       "  </thead>\n",
       "  <tbody>\n",
       "    <tr>\n",
       "      <th>0</th>\n",
       "      <td>52</td>\n",
       "      <td>1</td>\n",
       "      <td>2</td>\n",
       "      <td>172</td>\n",
       "      <td>199</td>\n",
       "      <td>1</td>\n",
       "      <td>1</td>\n",
       "      <td>162</td>\n",
       "      <td>0</td>\n",
       "      <td>0.5</td>\n",
       "      <td>2</td>\n",
       "      <td>0</td>\n",
       "      <td>3</td>\n",
       "    </tr>\n",
       "  </tbody>\n",
       "</table>\n",
       "</div>"
      ],
      "text/plain": [
       "   age  sex  cp  trestbps  chol  fbs  restecg  thalach  exang  oldpeak  slope  \\\n",
       "0   52    1   2       172   199    1        1      162      0      0.5      2   \n",
       "\n",
       "   ca  thal  \n",
       "0   0     3  "
      ]
     },
     "execution_count": 93,
     "metadata": {},
     "output_type": "execute_result"
    }
   ],
   "source": [
    "#Type 2 Of Predicting\n",
    "newdata= pd.DataFrame({'age':52, 'sex':1, 'cp':2, 'trestbps':172, 'chol':199, 'fbs':1, 'restecg':1, 'thalach':162,\n",
    "                        'exang':0, 'oldpeak':0.5, 'slope':2, 'ca':0, 'thal':3},index=[0])\n",
    "\n",
    "#predictionT2=lr.predict(newdata)\n",
    "predictionT2 = deepL_model.predict(newdata)\n",
    "newdata"
   ]
  },
  {
   "cell_type": "code",
   "execution_count": 94,
   "id": "27c04153",
   "metadata": {},
   "outputs": [
    {
     "name": "stdout",
     "output_type": "stream",
     "text": [
      "[1]\n",
      "The Person has Heart Disease\n"
     ]
    }
   ],
   "source": [
    "print(predictionT2)\n",
    "\n",
    "if (predictionT2[0]== 0):\n",
    "  print('The Person does not have a Heart Disease')\n",
    "else:\n",
    "  print('The Person has Heart Disease')"
   ]
  },
  {
   "cell_type": "code",
   "execution_count": 95,
   "id": "d35c0739",
   "metadata": {},
   "outputs": [
    {
     "data": {
      "text/plain": [
       "(49, 14)"
      ]
     },
     "execution_count": 95,
     "metadata": {},
     "output_type": "execute_result"
    }
   ],
   "source": [
    "#Type 3 Of Predicting\n",
    "testds=pd.read_csv(\"testdata.csv\")\n",
    "testds.shape"
   ]
  },
  {
   "cell_type": "code",
   "execution_count": 96,
   "id": "4ad5fa14",
   "metadata": {},
   "outputs": [],
   "source": [
    "ytds = testds['target'].copy()\n",
    "Xtds = testds.drop('target', axis=1).copy()"
   ]
  },
  {
   "cell_type": "code",
   "execution_count": 97,
   "id": "36b686b0",
   "metadata": {},
   "outputs": [],
   "source": [
    "Xtds, ytds = preprocessing(testds,StandardScaler())"
   ]
  },
  {
   "cell_type": "code",
   "execution_count": 98,
   "id": "0a11f49b",
   "metadata": {},
   "outputs": [
    {
     "name": "stdout",
     "output_type": "stream",
     "text": [
      "2/2 [==============================] - 0s 3ms/step\n"
     ]
    },
    {
     "data": {
      "text/plain": [
       "array([[0.81267446],\n",
       "       [0.0128165 ],\n",
       "       [0.9076801 ],\n",
       "       [0.19749892],\n",
       "       [0.95546734],\n",
       "       [0.25490314],\n",
       "       [0.6708544 ],\n",
       "       [0.16697241],\n",
       "       [0.10876938],\n",
       "       [0.7868219 ],\n",
       "       [0.02806044],\n",
       "       [0.96386194],\n",
       "       [0.9945325 ],\n",
       "       [0.10668216],\n",
       "       [0.9915375 ],\n",
       "       [0.01323053],\n",
       "       [0.04788023],\n",
       "       [0.94682807],\n",
       "       [0.01002243],\n",
       "       [0.17456658],\n",
       "       [0.11208859],\n",
       "       [0.14506383],\n",
       "       [0.0065478 ],\n",
       "       [0.99057204],\n",
       "       [0.43571025],\n",
       "       [0.7585417 ],\n",
       "       [0.99956375],\n",
       "       [0.0787516 ],\n",
       "       [0.99954605],\n",
       "       [0.9643175 ],\n",
       "       [0.9963223 ],\n",
       "       [0.40182483],\n",
       "       [0.24296436],\n",
       "       [0.98542064],\n",
       "       [0.77217156],\n",
       "       [0.0111685 ],\n",
       "       [0.99991524],\n",
       "       [0.00187325],\n",
       "       [0.5492358 ],\n",
       "       [0.01702629],\n",
       "       [0.19724663],\n",
       "       [0.9645535 ],\n",
       "       [0.9680607 ],\n",
       "       [0.00968736],\n",
       "       [0.32001528],\n",
       "       [0.9915375 ],\n",
       "       [0.17456658],\n",
       "       [0.16564609],\n",
       "       [0.9872232 ]], dtype=float32)"
      ]
     },
     "execution_count": 98,
     "metadata": {},
     "output_type": "execute_result"
    }
   ],
   "source": [
    "model3.predict(Xtds)"
   ]
  },
  {
   "cell_type": "code",
   "execution_count": 60,
   "id": "f783d7ff",
   "metadata": {},
   "outputs": [
    {
     "data": {
      "text/plain": [
       "0     0\n",
       "1     0\n",
       "2     1\n",
       "3     0\n",
       "4     1\n",
       "5     1\n",
       "6     1\n",
       "7     1\n",
       "8     0\n",
       "9     0\n",
       "10    0\n",
       "11    1\n",
       "12    1\n",
       "13    0\n",
       "14    1\n",
       "15    0\n",
       "16    0\n",
       "17    1\n",
       "18    0\n",
       "19    0\n",
       "20    0\n",
       "21    0\n",
       "22    0\n",
       "23    1\n",
       "24    0\n",
       "25    1\n",
       "26    1\n",
       "27    0\n",
       "28    1\n",
       "29    1\n",
       "30    1\n",
       "31    0\n",
       "32    0\n",
       "33    1\n",
       "34    0\n",
       "35    0\n",
       "36    1\n",
       "37    0\n",
       "38    0\n",
       "39    0\n",
       "40    0\n",
       "41    1\n",
       "42    1\n",
       "43    0\n",
       "44    0\n",
       "45    1\n",
       "46    0\n",
       "47    0\n",
       "48    1\n",
       "Name: target, dtype: int64"
      ]
     },
     "execution_count": 60,
     "metadata": {},
     "output_type": "execute_result"
    }
   ],
   "source": [
    "ytds"
   ]
  },
  {
   "cell_type": "code",
   "execution_count": null,
   "id": "baf5dc91",
   "metadata": {},
   "outputs": [],
   "source": []
  }
 ],
 "metadata": {
  "kernelspec": {
   "display_name": "Python 3 (ipykernel)",
   "language": "python",
   "name": "python3"
  },
  "language_info": {
   "codemirror_mode": {
    "name": "ipython",
    "version": 3
   },
   "file_extension": ".py",
   "mimetype": "text/x-python",
   "name": "python",
   "nbconvert_exporter": "python",
   "pygments_lexer": "ipython3",
   "version": "3.9.12"
  },
  "widgets": {
   "application/vnd.jupyter.widget-state+json": {
    "state": {},
    "version_major": 2,
    "version_minor": 0
   }
  }
 },
 "nbformat": 4,
 "nbformat_minor": 5
}
